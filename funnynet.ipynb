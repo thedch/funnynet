{
 "cells": [
  {
   "cell_type": "code",
   "execution_count": 36,
   "metadata": {
    "collapsed": true
   },
   "outputs": [],
   "source": [
    "# Put these at the top of every notebook, to get automatic reloading and inline plotting\n",
    "%reload_ext autoreload\n",
    "%autoreload 2\n",
    "%matplotlib inline"
   ]
  },
  {
   "cell_type": "markdown",
   "metadata": {},
   "source": [
    "# Funnynet\n",
    "\n",
    "## A neural network that makes jokes\n",
    "\n",
    "Special thanks to taivop for providing the [dataset](https://github.com/taivop/joke-dataset).\n",
    "\n",
    "This notebook is heavily inspired by [fastai NLP work](https://github.com/fastai/fastai/blob/master/courses/dl2/imdb.ipynb)."
   ]
  },
  {
   "cell_type": "code",
   "execution_count": 37,
   "metadata": {
    "collapsed": true
   },
   "outputs": [],
   "source": [
    "import pdb\n",
    "import json\n",
    "from pathlib import Path\n",
    "import numpy as np\n",
    "import matplotlib.pyplot as plt"
   ]
  },
  {
   "cell_type": "code",
   "execution_count": 38,
   "metadata": {
    "collapsed": true
   },
   "outputs": [],
   "source": [
    "BOS = 'xbos'  # beginning-of-sentence tag\n",
    "FLD = 'xfld'  # data field tag\n",
    "EOJ = 'xeoj'  # end of joke tag\n",
    "\n",
    "PATH=Path('data')"
   ]
  },
  {
   "cell_type": "code",
   "execution_count": 39,
   "metadata": {},
   "outputs": [
    {
     "name": "stdout",
     "output_type": "stream",
     "text": [
      "[WindowsPath('data/reddit_jokes.json'), WindowsPath('data/stupidstuff.json')]\n"
     ]
    }
   ],
   "source": [
    "files = list(PATH.iterdir())\n",
    "print(files)"
   ]
  },
  {
   "cell_type": "code",
   "execution_count": 40,
   "metadata": {
    "collapsed": true
   },
   "outputs": [],
   "source": [
    "reddit_dataset = files[0]\n",
    "reddit_jokes = json.load(open(reddit_dataset))\n",
    "stupid_dataset = files[1]\n",
    "stupid_jokes = json.load(open(stupid_dataset))"
   ]
  },
  {
   "cell_type": "code",
   "execution_count": 41,
   "metadata": {},
   "outputs": [
    {
     "data": {
      "text/plain": [
       "194553"
      ]
     },
     "execution_count": 41,
     "metadata": {},
     "output_type": "execute_result"
    }
   ],
   "source": [
    "len(reddit_jokes)"
   ]
  },
  {
   "cell_type": "code",
   "execution_count": 134,
   "metadata": {},
   "outputs": [
    {
     "data": {
      "text/plain": [
       "3773"
      ]
     },
     "execution_count": 134,
     "metadata": {},
     "output_type": "execute_result"
    }
   ],
   "source": [
    "len(stupid_jokes)"
   ]
  },
  {
   "cell_type": "code",
   "execution_count": 135,
   "metadata": {},
   "outputs": [
    {
     "data": {
      "text/plain": [
       "{'body': 'Now I have to say \"Leroy can you please paint the fence?\"',\n",
       " 'id': '5tz52q',\n",
       " 'score': 1,\n",
       " 'title': 'I hate how you cant even say black paint anymore'}"
      ]
     },
     "execution_count": 42,
     "metadata": {},
     "output_type": "execute_result"
    }
   ],
   "source": [
    "reddit_jokes[0]"
   ]
  },
  {
   "cell_type": "markdown",
   "metadata": {},
   "source": [
    "Let's discard all the jokes that have 0 score, as they aren't that helpful for training"
   ]
  },
  {
   "cell_type": "code",
   "execution_count": 43,
   "metadata": {
    "collapsed": true
   },
   "outputs": [],
   "source": [
    "rated_jokes = [joke for joke in reddit_jokes if joke['score'] > 0]"
   ]
  },
  {
   "cell_type": "code",
   "execution_count": 44,
   "metadata": {},
   "outputs": [
    {
     "data": {
      "text/plain": [
       "132992"
      ]
     },
     "execution_count": 44,
     "metadata": {},
     "output_type": "execute_result"
    }
   ],
   "source": [
    "len(rated_jokes)"
   ]
  },
  {
   "cell_type": "code",
   "execution_count": 45,
   "metadata": {},
   "outputs": [
    {
     "data": {
      "text/plain": [
       "(172.94791416025024, 48526)"
      ]
     },
     "execution_count": 45,
     "metadata": {},
     "output_type": "execute_result"
    }
   ],
   "source": [
    "scores = [joke['score'] for joke in rated_jokes]\n",
    "np.mean(scores),np.max(scores)"
   ]
  },
  {
   "cell_type": "code",
   "execution_count": 139,
   "metadata": {},
   "outputs": [
    {
     "data": {
      "text/plain": [
       "(3.284362576199311, 5.0)"
      ]
     },
     "execution_count": 139,
     "metadata": {},
     "output_type": "execute_result"
    }
   ],
   "source": [
    "stupid_scores = [joke['rating'] for joke in stupid_jokes]\n",
    "np.mean(stupid_scores),np.max(stupid_scores)"
   ]
  },
  {
   "cell_type": "markdown",
   "metadata": {},
   "source": [
    "Let's see how many jokes have really high scores:"
   ]
  },
  {
   "cell_type": "code",
   "execution_count": 46,
   "metadata": {},
   "outputs": [
    {
     "data": {
      "text/plain": [
       "1067"
      ]
     },
     "execution_count": 46,
     "metadata": {},
     "output_type": "execute_result"
    }
   ],
   "source": [
    "len([score for score in scores if score>5000])"
   ]
  },
  {
   "cell_type": "code",
   "execution_count": 47,
   "metadata": {},
   "outputs": [
    {
     "data": {
      "image/png": "[encoded data removed]",
      "text/plain": [
       "<matplotlib.figure.Figure at 0x192d937d518>"
      ]
     },
     "metadata": {},
     "output_type": "display_data"
    }
   ],
   "source": [
    "plt.hist(scores, bins=100);"
   ]
  },
  {
   "cell_type": "markdown",
   "metadata": {},
   "source": [
    "Looks like there's quite a dropoff of scores, almost none above 1000. Score normalization or something might be useful -- a large amount of the score is probably due to posting time, so it might be valuable to batch all the score into \"unpopular\", \"semi-popular\", and \"very popular\" or something.\n",
    "\n",
    "Next up, let's combine all the jokes in title->body format."
   ]
  },
  {
   "cell_type": "code",
   "execution_count": 48,
   "metadata": {},
   "outputs": [
    {
     "data": {
      "image/png": "[encoded data removed]",
      "text/plain": [
       "<matplotlib.figure.Figure at 0x192d90a1c50>"
      ]
     },
     "metadata": {},
     "output_type": "display_data"
    }
   ],
   "source": [
    "low_scores = [score for score in scores if score<5000]\n",
    "plt.hist(low_scores, bins=100);"
   ]
  },
  {
   "cell_type": "markdown",
   "metadata": {},
   "source": [
    "Here are the Reddit joke score incidences plotted on a log scale on the y axis:"
   ]
  },
  {
   "cell_type": "code",
   "execution_count": 143,
   "metadata": {
    "scrolled": false
   },
   "outputs": [
    {
     "data": {
      "image/png": "[encoded data removed]",
      "text/plain": [
       "<matplotlib.figure.Figure at 0x186441e7c88>"
      ]
     },
     "metadata": {},
     "output_type": "display_data"
    }
   ],
   "source": [
    "low_scores = [score for score in scores]\n",
    "plt.yscale('log', nonposy='clip')\n",
    "plt.hist(low_scores, bins=100);"
   ]
  },
  {
   "cell_type": "markdown",
   "metadata": {},
   "source": [
    "Here are the Reddit joke score incidences plotted on a log scale on the x axis:"
   ]
  },
  {
   "cell_type": "code",
   "execution_count": 158,
   "metadata": {},
   "outputs": [
    {
     "data": {
      "image/png": "[encoded data removed]",
      "text/plain": [
       "<matplotlib.figure.Figure at 0x186371e3400>"
      ]
     },
     "metadata": {},
     "output_type": "display_data"
    }
   ],
   "source": [
    "low_scores = [score for score in scores]\n",
    "plt.xscale('log', nonposx='clip')\n",
    "plt.ylim(ymax=200000)\n",
    "#plt.axes.set_ylim([0,200000])\n",
    "plt.hist(low_scores, bins=100);"
   ]
  },
  {
   "cell_type": "markdown",
   "metadata": {},
   "source": [
    "This suggests that we can take the log of the Reddit scores (and multiply by an appropriate factor to ensure we cover the whole 0 to 5 range) and then easily combine the Reddit corpus with the stupidstuff corpus (see the flattish distribution of the stupidstuff jokes below).\n",
    "\n",
    "Now let's look at the score distribution for the jokes from the stupidstuff corpus"
   ]
  },
  {
   "cell_type": "code",
   "execution_count": 145,
   "metadata": {},
   "outputs": [
    {
     "data": {
      "image/png": "[encoded data removed]",
      "text/plain": [
       "<matplotlib.figure.Figure at 0x186542a04a8>"
      ]
     },
     "metadata": {},
     "output_type": "display_data"
    }
   ],
   "source": [
    "stupid_scores_for_hist = [score for score in stupid_scores if score<=5]\n",
    "plt.hist(stupid_scores_for_hist,bins=50);"
   ]
  },
  {
   "cell_type": "code",
   "execution_count": 49,
   "metadata": {},
   "outputs": [
    {
     "data": {
      "text/plain": [
       "'I hate how you cant even say black paint anymore Now I have to say \"Leroy can you please paint the fence?\"'"
      ]
     },
     "execution_count": 49,
     "metadata": {},
     "output_type": "execute_result"
    }
   ],
   "source": [
    "title_body = [joke['title']+' '+joke['body'] for joke in rated_jokes]\n",
    "title_body[0]"
   ]
  },
  {
   "cell_type": "markdown",
   "metadata": {},
   "source": [
    "Horrible, but formatted correctly. Now, let's combine all the jokes into one long string. This will destroy any ability for the network to understand what the baginning or end of a joke is, but I'll come back to that. "
   ]
  },
  {
   "cell_type": "code",
   "execution_count": 50,
   "metadata": {},
   "outputs": [],
   "source": [
    "text = ''\n",
    "for joke in title_body:\n",
    "    text = text + ' ' + joke + ' ' + EOJ + ' '\n",
    "    if len(text) > 700000: \n",
    "        break"
   ]
  },
  {
   "cell_type": "code",
   "execution_count": 51,
   "metadata": {},
   "outputs": [
    {
     "data": {
      "text/plain": [
       "700013"
      ]
     },
     "execution_count": 51,
     "metadata": {},
     "output_type": "execute_result"
    }
   ],
   "source": [
    "len(text)"
   ]
  },
  {
   "cell_type": "code",
   "execution_count": 52,
   "metadata": {},
   "outputs": [
    {
     "name": "stdout",
     "output_type": "stream",
     "text": [
      "total chars: 124\n"
     ]
    }
   ],
   "source": [
    "chars = sorted(list(set(text)))\n",
    "vocab_size = len(chars)+1\n",
    "print('total chars:', vocab_size)"
   ]
  },
  {
   "cell_type": "code",
   "execution_count": 53,
   "metadata": {},
   "outputs": [
    {
     "name": "stdout",
     "output_type": "stream",
     "text": [
      "['\\x00', '\\n', '\\r', ' ', '!', '\"', '#', '$', '%', '&', \"'\", '(', ')', '*', '+', ',', '-', '.', '/', '0', '1', '2', '3', '4', '5', '6', '7', '8', '9', ':', ';', '<', '=', '>', '?', '@', 'A', 'B', 'C', 'D', 'E', 'F', 'G', 'H', 'I', 'J', 'K', 'L', 'M', 'N', 'O', 'P', 'Q', 'R', 'S', 'T', 'U', 'V', 'W', 'X', 'Y', 'Z', '[', '\\\\', ']', '^', '_', '`', 'a', 'b', 'c', 'd', 'e', 'f', 'g', 'h', 'i', 'j', 'k', 'l', 'm', 'n', 'o', 'p', 'q', 'r', 's', 't', 'u', 'v', 'w', 'x', 'y', 'z', '~', '\\x9d', '\\xa0', '¢', '£', '°', '´', 'è', 'é', 'ñ', 'ó', 'μ', 'π', '–', '—', '‘', '’', '“', '”', '•', '…', '€', '√', '∫', '\\ufeff', '🇩', '🇰', '😂', '😨', '🤣']\n"
     ]
    }
   ],
   "source": [
    "chars.insert(0, \"\\0\")\n",
    "print(chars)"
   ]
  },
  {
   "cell_type": "markdown",
   "metadata": {},
   "source": [
    "It appears there are Emojis in the dataset. "
   ]
  },
  {
   "cell_type": "code",
   "execution_count": 54,
   "metadata": {
    "collapsed": true
   },
   "outputs": [],
   "source": [
    "char_indices = {c: i for i, c in enumerate(chars)}\n",
    "indices_char = {i: c for i, c in enumerate(chars)}"
   ]
  },
  {
   "cell_type": "code",
   "execution_count": 55,
   "metadata": {},
   "outputs": [
    {
     "data": {
      "text/plain": [
       "[3, 44, 3, 75, 68, 87, 72, 3, 75, 82]"
      ]
     },
     "execution_count": 55,
     "metadata": {},
     "output_type": "execute_result"
    }
   ],
   "source": [
    "idx = [char_indices[c] for c in text]\n",
    "\n",
    "idx[:10]"
   ]
  },
  {
   "cell_type": "code",
   "execution_count": 56,
   "metadata": {},
   "outputs": [
    {
     "data": {
      "text/plain": [
       "' I hate how you cant even say black paint anymore Now I have to say \"L'"
      ]
     },
     "execution_count": 56,
     "metadata": {},
     "output_type": "execute_result"
    }
   ],
   "source": [
    "''.join(indices_char[i] for i in idx[:70])"
   ]
  },
  {
   "cell_type": "markdown",
   "metadata": {},
   "source": [
    "# Emojis in Jokes\n",
    "\n",
    "How many of them have them?"
   ]
  },
  {
   "cell_type": "code",
   "execution_count": 57,
   "metadata": {
    "scrolled": true
   },
   "outputs": [
    {
     "name": "stdout",
     "output_type": "stream",
     "text": [
      "21\n"
     ]
    },
    {
     "data": {
      "text/plain": [
       "[\"Shorty! Yo' momma is so short, I can see her feet in her driver's license. \\n\\n😂🤣😂🤣😂🤣\",\n",
       " 'Golf balls A man got on the bus with both of his front trouser pockets full of golf balls and sat down next to a beautiful blonde.\\n\\nThe puzzled blonde kept looking at him and his bulging pockets.\\n\\nFinally, after many glances from her, he said, \"It\\'s golf balls.\"\\n\\nThe blonde continued to look at him for a very long time, thinking deeply about what he had said.\\n\\nFinally, unable to contain her curiosity any longer, she asked,\\n\\n\"Does it hurt as much as tennis elbow..?\"  :)😨😨😨😨😨😨',\n",
       " 'What do you get if your pour hot water down a rabbit hole? Hot-Cross bunnies! 😂',\n",
       " 'Why did the scarecrow win an award? He was outstanding in his field 😂',\n",
       " 'Prince Charles and the hooker... Prince Charles and the Hooker: 4 years ago Prince Charles decided to take up walking every day. At the same street corner he passed a hooker standing there every day. He learned to brace himself as he approached her for what was almost certain to follow. “One hundred and fifty pounds!” she’d shout. “No! Five pounds!” He said from the side of His mouth, just to shut her up. This ritual between him and the hooker became a daily occurrence. She’d yell, “One hundred and Fifty pounds!” He’d yell back, “Five pounds!” One day, Camilla decided to accompany her ‘husband’. As the couple neared the hooker’s corner, Prince Charles realised she’d bark her £150 offer and Camilla would wonder what he’d really been doing on all his past outings. He figured he’d better have a good explanation for his Wife As they neared the hooker’s corner he became even more apprehensive than usual. Sure enough, there she stood. He tried to avoid eye contact as she watched the pair pass. Then, the hooker yelled: “See what you get for five pounds, you tight bastard!”......😂',\n",
       " \"Spanish delicacy A big Texan stopped at a local restaurant following a day roaming around in Spain.\\n\\nWhile sipping his wine, he noticed a sizzling, scrumptious looking platter being served at the next table. Not only did it look good, the smell was wonderful.\\n\\nHe asked the waiter, 'What is that you just served? They look like Spanish oysters!'\\n\\nThe waiter replied, 'Senor, you have excellent taste! Those are not oysters... they are called Cojones de Toro, bull's testicles from the bull fight this morning. A rare delicacy!'\\n\\nThe cowboy said, 'What the heck, bring me an order.'\\n\\nThe waiter replied, 'I am so sorry senor. There is only one serving per day because there is only one bull fight each morning. Tomorrow, if you come early and place your order, we will be sure to save you this delicacy.'\\n\\nThe next morning, the cowboy returned, placed his order, and that evening was served the one and only special delicacy of the day.   After a few bites, inspecting his platter, he called to the waiter and said, 'These are delicious, but they are much, much smaller than the ones I saw you serve yesterday.'\\n\\nThe waiter shrugged his shoulders and replied, 'Si, Senor. Sometimes the bull wins and the man loses !' 😂\",\n",
       " \"We'll give him gold and frankincense But wait, there's myrrh. \\n\\nI'm not sorry. 😂\",\n",
       " 'Did you hear about the guy who lived in a tyre? He got a puncture and now he lives in a Flat 😂',\n",
       " \"Kill the time Teacher - How did our grandparents kill time without smartphones or Internet?\\n\\nSmart student - i've already asked this question to my mum, her 5 brothers and 7 sisters...😂😂😂\",\n",
       " 'What is it called when Batman leaves church? Christian Bale... 😂',\n",
       " 'The phone bill was exceptionally high. Man called a family meeting to discuss .... Dad: This is unacceptable. I don\\'t use home phone, I use my work phone.\\n\\nMum: Me too. I hardly use home phone. I use my companies phone\\n\\nSon: I use my office mobile, I never use the home phone.\\n\\nAll of them shocked and together looked at the maid who\\'s patiently listening to them.\\n\\nMaid: \"What? So we all use our work phones. What\\'s the Big deal??\\n😂😆',\n",
       " 'A man goes to the doctor and says, \"Doctor, wherever I touch, it hurts. A man goes to the doctor and says, \"Doctor, wherever I touch, it hurts.\" \\nThe doctor asks, \"What do you mean?\" \\nThe man says, \"When I touch my shoulder, it really hurts. If I touch my knee - OUCH! When I touch my forehead, it really, really hurts.\" \\nThe doctor says, \"I know what\\'s wrong with you - you\\'ve broken your finger!\" 😂😂',\n",
       " 'My friend just sent this to me... On a New York sidewalk, an Indian is enjoying a hearty breakfast \"Coffee, croissants, toast, butter, jam, etc\"\\n\\nWhile an American, chewing a gum, sat next to him and started an unwanted conversation.\\n\\nAmerican: You Indians eat the whole bread?\\n\\nIndian: Ofcourse!\\n\\nAmerican: (Blowing bubbles with his gum) we don\\'t. \\n\\nWe, Americans only eat what\\'s inside. The crust we collect in a container, recycle, make these into croissants and sell these to India.\\n\\nAmerican: Do you eat jam with bread?\\n\\nIndian: Ofcourse!\\n\\nAmerican: We don\\'t.\\n\\nWe eat fruits at breakfast, put all the peels, seeds and leftovers into containers, turn these into jam and sell it to India.\\n\\nIndian: Do you have sex in America?\\n\\nAmerican: Ofcourse, we do!\\n\\nIndian: What do you do with the condoms?\\n\\nAmerican: We throw them, of course!\\n\\nIndian: We don\\'t. In India, we put them into containers, recycle them, turn them into chewing gums and sell it to America!\\n\\nKhaalllaaaaasssss ...😂',\n",
       " 'Only certain professionals can get away saying these 👷Doctor: \"Please take off your clothes.\" \\n\\n😂Dentist: \"Now open wide and hold still \"  \\n\\n🐱Veterinarian: \"How\\'s your pretty pussy ?\" \\n\\n 👴Gardener: \"Want me to fertilize your bush ?\" \\n\\n 👔Lawyer: \"Let\\'s go over sec69.\" \\n\\n💰Banker: \"If you withdraw too early you lose interest.\" \\n\\n🍟Chef: \"Do you like it hot and spicy.?\" \\n\\n👮Police: \"You don\\'t need protection.\" \\n\\n🔫Army personnel: \"Load. Aim. Fire.\" \\n\\n🏊Swimming instructor: \"Go deeper.\" \\n\\n💪Gym trainer: \"Push harder\".\\n\\n👸Interior Decorator: \"Once its done, you will love it.\" \\n\\n☎Telephone Guy : \"Would you like it on the table or against the wall !!😜😆😆 }',\n",
       " '😎The difference between Oo and oO Two young guys appear in court after being arrested for smoking dope.\\nThe judge says, \"You seem like nice young men, and I\\'d like to give you a second chance instead of jail time.\\nI want you to go out this weekend and try to convince others of the evils of drug use.\\nI\\'ll see you back in court Monday.\\n\"On Monday, the judge asks the first guy, \"How did you do over the weekend?\\n\"\"Well, your honor, I persuaded 17 people to give up drugs forever.\\n\"\"Seventeen people? That\\'s wonderful. How did you do it? \"\\n\"I used a diagram, your honor.\\nI drew two circles like this: O o.\\nThen I told them that the big circle is your brain before drugs and the small circle is your brain after drugs.\"\\n\"That\\'s admirable,\" says the judge.\\nThen he turns to the second guy. \"And how did you do?\"\\n\"Well, your honor, I persuaded 156 people to give up drugs forever.\"\\n\"Wow!\" says the judge. \"156 people! How did you manage to do that?\"\\n\"Well, I used a similar diagram,\" the guy says.\\n\"I drew two circles like this: o O.\\nThen I pointed to the little circle and said, \\'This is your asshole before prison..................\"\\n😂😂',\n",
       " \"A Very Cold Winter It was autumn, and the Red Indians asked their New Chief if the winter was going to be cold or mild. \\n\\nSince he was a Red Indian chief in a modern society, he couldn't tell what the weather was going to be. \\n\\nNevertheless, to be on the safe side, he replied to his Tribe that the winter was indeed going to be cold and that the members of the village should collect wood to be prepared. \\n\\nBut also being a practical leader, after several days he got an idea. He went to the phone booth, called the National Weather Service and asked 'Is the coming winter going to be cold?' \\n\\n'It looks like this winter is going to be quite cold indeed,' the weather man responded. \\n\\nSo the Chief went back to his people and told them to collect even more wood. A week later, he called the National Weather Service again. 'Is it going to be a very cold winter?' \\n\\n'Yes,' the man at National Weather Service again replied, 'It's definitely going to be a very cold winter.' \\n\\nThe Chief again went back to his people and ordered them to collect every scrap of wood they could find. \\n\\nTwo weeks later, he called the National Weather Service again. \\n\\n'Are you absolutely sure that the winter is going to be very cold?' 'Absolutely,' The man replied. 'It's going to be one of the coldest winters ever.' \\n\\n'How can you be so sure?' the Chief asked. \\nThe weatherman replied, 'The Red Indians are collecting wood like crazy.' \\n\\nThis is how stock markets work😜😂🍻\",\n",
       " 'To be 26 again A man in his late 40s was sitting on the edge of the bed, watching his wife, who was looking at herself in the mirror.\\n\\nSince her birthday was not far off he asked her what she\\'d like to have for her birthday.\\n\\n\\'I\\'d like to be 26 again\\', she replied, still looking in the mirror ..\\n\\nOn her birthday morning, he rose early, made her a nice big cup of coffee & then took her to Adventure World theme park on a bike.\\n\\nWhat a day!\\n\\nHe put her on every ride in the park; the Death Slide, the Wall of Fear, the Screaming Roller Coaster, everything....\\n\\n5 hours later they staggered out of the theme park. Her head was reeling & her stomach felt upside down.\\n\\nHe then took her to the most exotic restaurant where they ate and danced like never before. Then it was off to a movie, popcorn, a soda, & her favorite chocolate. What a fabulous adventure!\\n\\nFinally she wobbled home with her husband & collapsed into d sofa exhausted.\\n\\nHe looked at his wife with a big smile & lovingly asked, \"Well Dear, what was it like being 26 again?\"\\n\\nHer eyes slowly opened & her expression suddenly changed.\\n\\n\\'I meant my waist size, u idiot !\" 😱\\n\\nMoral : No matter how attentively u listen to a woman, u are still gonna get it wrong 😂',\n",
       " \"Venus vs Mars never quite figured out why the sexual urge of men and women differ so much. And never have figured out the whole Venus and Mars thing. never figured out why men think with their head and women with their heart.\\n\\nFOR EXAMPLE\\n\\nOne evening last week, my girlfriend and I were getting into bed.\\n\\nWell, the passion starts to heat up, and she eventually says, 'I don't feel like it, I just want you to hold me.'\\n\\nI said, 'WHAT??!! What was that?!'\\n\\nSo she says the words that every boyfriend on the planet dreads to hear...\\n\\n'You're just not in touch with my emotional needs as a woman enough for me to satisfy your physical needs as a man.'\\n\\nShe responded to my puzzled look by saying, 'Can't you just love me for who I am and not what I do for you in the bedroom?'\\n\\nRealizing that nothing was going to happen that night, I went to sleep.\\n\\nThe very next day I opted to take the day off of work to spend time with her. We went out to a nice lunch and then went shopping at a big, big unnamed department store. I walked around with her while she tried on several different very expensive outfits. She couldn't decide which one to take, so I told her we'd just buy them all. She wanted new shoes to compliment her new clothes, so I said, 'Lets get a pair for each outfit.'\\n\\nWe went on to the jewellery department where she picked out a pair of diamond earrings. Let me tell you... she was so excited. She must have thought I was one wave short of a shipwreck. I started to think she was testing me because she asked for a tennis bracelet when she doesn't even know how to play tennis.\\n\\nI think I threw her for a loop when I said, 'That's fine, honey.' She was almost nearing sexual satisfaction from all of the excitement.\\n\\nSmiling with excited anticipation, she finally said, 'I think this is all dear, let's go to the cashier.'\\n\\nI could hardly contain myself when I blurted out, 'No honey, I don't feel like it.'\\n\\nHer face just went completely blank as her jaw dropped with a baffled, 'WHAT?'\\n\\nI then said, 'Honey! I just want you to HOLD this stuff for a while. You're just not in touch with my financial needs as a man enough for me to satisfy your shopping needs as a woman.'\\n\\nAnd just when she had this look like she was going to kill me, I added, 'Why can't you just love me for who I am and not for the things I buy you?'\\n\\nApparently I'm not having sex tonight either..😂😂😄😃\",\n",
       " 'High joke \\n\\nA cop stops a man and asks \"how high are you?\"\\n\\n\\nThe man replies.\" That is wrong english. You should say \\'Hi how are you?\\'\"😂',\n",
       " 'King\\'s ass A King enrolled his donkey in a race\\n& won.\\nLocal paper read:\\n\\'KING\\'s ASS WON\\'\\nThe king was so upset with this kind\\nof publicity that he gave the donkey\\nto the queen.\\nThe local paper then read:\\n\"QUEEN HAS THE BEST ASS IN\\nTOWN\"\\nThe king fainted....\\nQueen sold the donkey to a farmer\\nfor 10$.\\nNext day paper read: \"QUEEN SELLS\\nHER ASS FOR $10\"\\nThe queen fainted...\\nThe next day king ordered the queen\\nto buy back the donkey and leave it\\nin jungle.\\nThe Next Headlines:\\n\"QUEEN ANNOUNCES HER ASS IS\\nFREE & WILD\"\\nThe king died... !!\\nThats Media😂',\n",
       " 'Custody Case A man and his young wife were in divorce court, but the custody of their children posed a problem. \\n\\nThe mother gets up and says to the judge that since she brought the children into this world, she should retain custody of them. \\n\\nThe man also wanted custody of his children, so the judge asked for his justification. \\n\\nAfter a long silence, the man slowly rose from his chair and replied, \"Your Honor, when I put a dollar in a vending machine and a Coke comes out, does the Coke belong to me or the machine?\" 😂']"
      ]
     },
     "execution_count": 57,
     "metadata": {},
     "output_type": "execute_result"
    }
   ],
   "source": [
    "emojis = chars[-3:]\n",
    "\n",
    "def containsEmoji(joke):\n",
    "    for emoji in emojis:\n",
    "        if emoji in joke:\n",
    "            return True\n",
    "    return False\n",
    "\n",
    "#type(title_body[0])\n",
    "contains_emoji = [joke for joke in title_body if containsEmoji(joke)]\n",
    "print(len(contains_emoji))\n",
    "contains_emoji"
   ]
  },
  {
   "cell_type": "markdown",
   "metadata": {},
   "source": [
    "So not that many. \n",
    "Interestingly though, there seems to be more emojis than we found initially. "
   ]
  }
 ],
 "metadata": {
  "kernelspec": {
   "display_name": "Python 3",
   "language": "python",
   "name": "python3"
  },
  "language_info": {
   "codemirror_mode": {
    "name": "ipython",
    "version": 3
   },
   "file_extension": ".py",
   "mimetype": "text/x-python",
   "name": "python",
   "nbconvert_exporter": "python",
   "pygments_lexer": "ipython3",
   "version": "3.6.1"
  }
 },
 "nbformat": 4,
 "nbformat_minor": 2
}
